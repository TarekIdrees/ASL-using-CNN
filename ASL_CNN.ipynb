{
  "nbformat": 4,
  "nbformat_minor": 0,
  "metadata": {
    "colab": {
      "name": "ASL_CNN.ipynb",
      "provenance": [],
      "collapsed_sections": []
    },
    "kernelspec": {
      "name": "python3",
      "display_name": "Python 3"
    },
    "language_info": {
      "name": "python"
    }
  },
  "cells": [
    {
      "cell_type": "markdown",
      "source": [
        "**Set up colab for ASL data from kaggel**"
      ],
      "metadata": {
        "id": "3zqo5Ua0bsLj"
      }
    },
    {
      "cell_type": "code",
      "source": [
        "! pip install kaggle"
      ],
      "metadata": {
        "id": "Y4Fcg7K_gcYM"
      },
      "execution_count": null,
      "outputs": []
    },
    {
      "cell_type": "code",
      "source": [
        "! mkdir ~/.kaggle"
      ],
      "metadata": {
        "id": "6G1YMwBhglA6"
      },
      "execution_count": null,
      "outputs": []
    },
    {
      "cell_type": "code",
      "source": [
        "! cp kaggle.json ~/.kaggle/"
      ],
      "metadata": {
        "id": "_JDvtRDWgn6-"
      },
      "execution_count": null,
      "outputs": []
    },
    {
      "cell_type": "code",
      "source": [
        "! chmod 600 ~/.kaggle/kaggle.json"
      ],
      "metadata": {
        "id": "vnlJ5LCkVX1Y"
      },
      "execution_count": null,
      "outputs": []
    },
    {
      "cell_type": "code",
      "source": [
        "! kaggle datasets download grassknoted/asl-alphabet"
      ],
      "metadata": {
        "id": "f68eq3AgVsbZ"
      },
      "execution_count": null,
      "outputs": []
    },
    {
      "cell_type": "code",
      "source": [
        "! unzip asl-alphabet.zip"
      ],
      "metadata": {
        "id": "bfFFY6IMWMzg"
      },
      "execution_count": null,
      "outputs": []
    },
    {
      "cell_type": "markdown",
      "source": [
        "**Import needed libraries**"
      ],
      "metadata": {
        "id": "MUeGgdP4b2RC"
      }
    },
    {
      "cell_type": "code",
      "execution_count": null,
      "metadata": {
        "id": "POMNZFi9gHxa"
      },
      "outputs": [],
      "source": [
        "import numpy as np\n",
        "import os\n",
        "from sklearn.utils import shuffle\n",
        "from sklearn.model_selection import train_test_split, GridSearchCV\n",
        "import cv2\n",
        "import keras\n",
        "from keras.layers import Conv2D, MaxPool2D, Flatten, Dense, Dropout, BatchNormalization,Activation,MaxPooling2D\n",
        "from keras.preprocessing.image import ImageDataGenerator\n",
        "from keras.models import Sequential\n",
        "from keras import regularizers\n",
        "from sklearn.metrics import accuracy_score\n",
        "from sklearn.metrics import precision_score\n",
        "from sklearn.metrics import recall_score"
      ]
    },
    {
      "cell_type": "code",
      "source": [
        "train_dir = 'asl_alphabet_train//asl_alphabet_train'\n",
        "test_dir = 'asl_alphabet_test//asl_alphabet_test'\n",
        "labels_dict = {'A': 0, 'B': 1, 'C': 2, 'D': 3, 'E': 4, 'F': 5, 'G': 6, 'H': 7, 'I': 8, 'J': 9, 'K': 10, 'L': 11,\n",
        "               'M': 12,\n",
        "               'N': 13, 'O': 14, 'P': 15, 'Q': 16, 'R': 17, 'S': 18, 'T': 19, 'U': 20, 'V': 21, 'W': 22, 'X': 23,\n",
        "               'Y': 24,\n",
        "               'Z': 25, 'space': 26, 'del': 27, 'nothing': 28}"
      ],
      "metadata": {
        "id": "rrOjUDJqbGh0"
      },
      "execution_count": null,
      "outputs": []
    },
    {
      "cell_type": "code",
      "source": [
        "def load_train_data():\n",
        "    Y_train = []\n",
        "    X_train = []\n",
        "    size = 64, 64\n",
        "    #number_of_images_per_folder = 0\n",
        "    images_per_folder = 0\n",
        "    print(\"LOADING DATA FROM : \", end=\"\")\n",
        "    for folder in os.listdir(train_dir):\n",
        "        print(folder, end=' | ')\n",
        "        for image in os.listdir(train_dir + \"/\" + folder):\n",
        "            if images_per_folder == 2000:\n",
        "              images_per_folder = 0\n",
        "              break\n",
        "            # read image\n",
        "            temp_img = cv2.imread(train_dir + '/' + folder + '/' + image)\n",
        "            # resize image\n",
        "            temp_img = cv2.resize(temp_img, size)\n",
        "            #load converted classes\n",
        "            Y_train.append(labels_dict[folder])\n",
        "            X_train.append(temp_img)\n",
        "            images_per_folder  = images_per_folder +1\n",
        "    #convert X_train to numpy\n",
        "    X_train = np.array(X_train)\n",
        "    #normalize the pixels of X_train\n",
        "    X_train = X_train.astype('float32')/255.0\n",
        "    #convert Y_train to numpy\n",
        "    Y_train = np.array(Y_train)\n",
        "    print()\n",
        "    print('Loaded', len(X_train), 'images for training,', 'Train data shape =', X_train.shape)\n",
        "\n",
        "    return X_train, Y_train\n"
      ],
      "metadata": {
        "id": "PnR3WaiwWmRl"
      },
      "execution_count": null,
      "outputs": []
    },
    {
      "cell_type": "code",
      "source": [
        "def load_test_data():\n",
        "    labels = []\n",
        "    X_test = []\n",
        "    size = 64, 64\n",
        "    for image in os.listdir(test_dir):\n",
        "        # read image\n",
        "        temp_img = cv2.imread(test_dir + '/'+ image)\n",
        "        # resize image\n",
        "        temp_img = cv2.resize(temp_img, size)\n",
        "        # load converted classes\n",
        "        labels.append(labels_dict[image.split('_')[0]])\n",
        "        X_test.append(temp_img)\n",
        "    #convert X_test to numpy\n",
        "    X_test = np.array(X_test)\n",
        "    #normalize pixels of X_test\n",
        "    X_test = X_test.astype('float32')/255.0\n",
        "    #convert Y_test to numpy\n",
        "    Y_test = np.array(labels)\n",
        "    print('Loaded', len(X_test), 'images for testing,', 'Test data shape =', X_test.shape)\n",
        "\n",
        "    return X_test, Y_test"
      ],
      "metadata": {
        "id": "Wesb58lacCT2"
      },
      "execution_count": null,
      "outputs": []
    },
    {
      "cell_type": "markdown",
      "source": [
        "**Load data with Gray**"
      ],
      "metadata": {
        "id": "6vkRAXzKhpp_"
      }
    },
    {
      "cell_type": "code",
      "source": [
        "X_train, Y_train =  load_train_data()"
      ],
      "metadata": {
        "colab": {
          "base_uri": "https://localhost:8080/"
        },
        "id": "cK-DK9fUXG8I",
        "outputId": "c7b09e93-7632-46c2-bd52-77e9fc9cfc8b"
      },
      "execution_count": null,
      "outputs": [
        {
          "output_type": "stream",
          "name": "stdout",
          "text": [
            "LOADING DATA FROM : D | Z | V | del | space | P | U | nothing | T | B | C | A | F | J | L | E | G | S | Y | R | Q | M | N | X | K | I | O | H | W | \n",
            "Loaded 58000 images for training, Train data shape = (58000, 64, 64, 3)\n"
          ]
        }
      ]
    },
    {
      "cell_type": "code",
      "source": [
        "X_test, Y_test = load_test_data()"
      ],
      "metadata": {
        "id": "Tw7usPKNCsYb",
        "colab": {
          "base_uri": "https://localhost:8080/"
        },
        "outputId": "a4d7c8f4-fe2f-49d3-f265-6249e0c89f45"
      },
      "execution_count": null,
      "outputs": [
        {
          "output_type": "stream",
          "name": "stdout",
          "text": [
            "Loaded 28 images for testing, Test data shape = (28, 64, 64, 3)\n"
          ]
        }
      ]
    },
    {
      "cell_type": "markdown",
      "source": [
        "**Create first CNN model**\n"
      ],
      "metadata": {
        "id": "VGj10APY6vj6"
      }
    },
    {
      "cell_type": "code",
      "source": [
        "def create_model():\n",
        "    \n",
        "    model = Sequential()\n",
        "    \n",
        "    model.add(Conv2D(16, kernel_size = [3,3], padding = 'same', activation = 'relu', input_shape = (64,64,3)))\n",
        "    model.add(Conv2D(32, kernel_size = [3,3], padding = 'same', activation = 'relu'))\n",
        "    model.add(MaxPool2D(pool_size = [3,3]))\n",
        "    \n",
        "    model.add(Conv2D(32, kernel_size = [3,3], padding = 'same', activation = 'relu'))\n",
        "    model.add(Conv2D(64, kernel_size = [3,3], padding = 'same', activation = 'relu'))\n",
        "    model.add(MaxPool2D(pool_size = [3,3]))\n",
        "\n",
        "    model.add(Conv2D(128, kernel_size = [3,3], padding = 'same', activation = 'relu', input_shape = (64,64,3)))\n",
        "    model.add(Conv2D(256, kernel_size = [3,3], padding = 'same', activation = 'relu'))\n",
        "    model.add(MaxPool2D(pool_size = [3,3]))\n",
        "    model.add(BatchNormalization())\n",
        "    model.add(Flatten())\n",
        "    \n",
        "    model.add(Dropout(rate = 0.5))\n",
        "    model.add(Dense(512, activation = 'relu',kernel_regularizer = regularizers.l2(0.001)))\n",
        "    model.add(Dense(29, activation = 'softmax'))\n",
        "    model.summary()   \n",
        "    return model"
      ],
      "metadata": {
        "id": "KduqyMbBjSsp"
      },
      "execution_count": null,
      "outputs": []
    },
    {
      "cell_type": "markdown",
      "source": [
        "**Crete second CNN model**"
      ],
      "metadata": {
        "id": "_OzyXGEG64mN"
      }
    },
    {
      "cell_type": "code",
      "source": [
        "def create_model_2():\n",
        "     model = Sequential()\n",
        "     model.add(Conv2D(32, (5, 5), input_shape=(64, 64, 3)))\n",
        "     model.add(Activation('relu'))\n",
        "     model.add(MaxPooling2D((2, 2)))\n",
        "\n",
        "     model.add(Conv2D(64, (3, 3)))\n",
        "     model.add(Activation('relu'))\n",
        "     model.add(MaxPooling2D((2, 2)))\n",
        "\n",
        "     model.add(Conv2D(64, (3, 3)))\n",
        "     model.add(Activation('relu'))\n",
        "     model.add(MaxPooling2D((2, 2)))\n",
        "     model.add(BatchNormalization())\n",
        "     model.add(Flatten())\n",
        "\n",
        "     model.add(Dense(128, activation='relu'))\n",
        "\n",
        "     model.add(Dense(29, activation='softmax'))\n",
        "\n",
        "     model.summary()\n",
        "     return model"
      ],
      "metadata": {
        "id": "rpQh1R3WwKhF"
      },
      "execution_count": null,
      "outputs": []
    },
    {
      "cell_type": "markdown",
      "source": [
        "**Description of model 2**"
      ],
      "metadata": {
        "id": "aA-cqbYQ6_FH"
      }
    },
    {
      "cell_type": "code",
      "source": [
        "model_2 = create_model_2()"
      ],
      "metadata": {
        "colab": {
          "base_uri": "https://localhost:8080/"
        },
        "id": "XTs37XmMw-Jx",
        "outputId": "05f126a3-06e4-4cb4-a593-1469c18120fe"
      },
      "execution_count": null,
      "outputs": [
        {
          "output_type": "stream",
          "name": "stdout",
          "text": [
            "Model: \"sequential_2\"\n",
            "_________________________________________________________________\n",
            " Layer (type)                Output Shape              Param #   \n",
            "=================================================================\n",
            " conv2d_9 (Conv2D)           (None, 60, 60, 32)        2432      \n",
            "                                                                 \n",
            " activation_3 (Activation)   (None, 60, 60, 32)        0         \n",
            "                                                                 \n",
            " max_pooling2d_6 (MaxPooling  (None, 30, 30, 32)       0         \n",
            " 2D)                                                             \n",
            "                                                                 \n",
            " conv2d_10 (Conv2D)          (None, 28, 28, 64)        18496     \n",
            "                                                                 \n",
            " activation_4 (Activation)   (None, 28, 28, 64)        0         \n",
            "                                                                 \n",
            " max_pooling2d_7 (MaxPooling  (None, 14, 14, 64)       0         \n",
            " 2D)                                                             \n",
            "                                                                 \n",
            " conv2d_11 (Conv2D)          (None, 12, 12, 64)        36928     \n",
            "                                                                 \n",
            " activation_5 (Activation)   (None, 12, 12, 64)        0         \n",
            "                                                                 \n",
            " max_pooling2d_8 (MaxPooling  (None, 6, 6, 64)         0         \n",
            " 2D)                                                             \n",
            "                                                                 \n",
            " flatten_2 (Flatten)         (None, 2304)              0         \n",
            "                                                                 \n",
            " dense_4 (Dense)             (None, 128)               295040    \n",
            "                                                                 \n",
            " dense_5 (Dense)             (None, 29)                3741      \n",
            "                                                                 \n",
            "=================================================================\n",
            "Total params: 356,637\n",
            "Trainable params: 356,637\n",
            "Non-trainable params: 0\n",
            "_________________________________________________________________\n"
          ]
        }
      ]
    },
    {
      "cell_type": "markdown",
      "source": [
        "**Description of model 1**"
      ],
      "metadata": {
        "id": "PNFRJOPQ7D_U"
      }
    },
    {
      "cell_type": "code",
      "source": [
        "model = create_model()"
      ],
      "metadata": {
        "id": "smFS07JwjbXS",
        "colab": {
          "base_uri": "https://localhost:8080/"
        },
        "outputId": "b12afd67-00f2-4119-9ace-86d0dd845fa4"
      },
      "execution_count": null,
      "outputs": [
        {
          "output_type": "stream",
          "name": "stdout",
          "text": [
            "Model: \"sequential_3\"\n",
            "_________________________________________________________________\n",
            " Layer (type)                Output Shape              Param #   \n",
            "=================================================================\n",
            " conv2d_12 (Conv2D)          (None, 64, 64, 16)        448       \n",
            "                                                                 \n",
            " conv2d_13 (Conv2D)          (None, 64, 64, 32)        4640      \n",
            "                                                                 \n",
            " max_pooling2d_9 (MaxPooling  (None, 21, 21, 32)       0         \n",
            " 2D)                                                             \n",
            "                                                                 \n",
            " conv2d_14 (Conv2D)          (None, 21, 21, 32)        9248      \n",
            "                                                                 \n",
            " conv2d_15 (Conv2D)          (None, 21, 21, 64)        18496     \n",
            "                                                                 \n",
            " max_pooling2d_10 (MaxPoolin  (None, 7, 7, 64)         0         \n",
            " g2D)                                                            \n",
            "                                                                 \n",
            " conv2d_16 (Conv2D)          (None, 7, 7, 128)         73856     \n",
            "                                                                 \n",
            " conv2d_17 (Conv2D)          (None, 7, 7, 256)         295168    \n",
            "                                                                 \n",
            " max_pooling2d_11 (MaxPoolin  (None, 2, 2, 256)        0         \n",
            " g2D)                                                            \n",
            "                                                                 \n",
            " flatten_3 (Flatten)         (None, 1024)              0         \n",
            "                                                                 \n",
            " dropout_1 (Dropout)         (None, 1024)              0         \n",
            "                                                                 \n",
            " dense_6 (Dense)             (None, 512)               524800    \n",
            "                                                                 \n",
            " dense_7 (Dense)             (None, 29)                14877     \n",
            "                                                                 \n",
            "=================================================================\n",
            "Total params: 941,533\n",
            "Trainable params: 941,533\n",
            "Non-trainable params: 0\n",
            "_________________________________________________________________\n"
          ]
        }
      ]
    },
    {
      "cell_type": "markdown",
      "source": [
        "**Compile fisrt model**"
      ],
      "metadata": {
        "id": "Pdv7aar77I-W"
      }
    },
    {
      "cell_type": "code",
      "source": [
        "model.compile(optimizer='adam',loss = 'sparse_categorical_crossentropy',metrics=['accuracy'])"
      ],
      "metadata": {
        "id": "rE4bnOk3c8yr"
      },
      "execution_count": null,
      "outputs": []
    },
    {
      "cell_type": "markdown",
      "source": [
        "**Compile second model**"
      ],
      "metadata": {
        "id": "GoOvKjiK7Mbd"
      }
    },
    {
      "cell_type": "code",
      "source": [
        "model_2.compile(optimizer='adam',loss = 'sparse_categorical_crossentropy',metrics=['accuracy'])"
      ],
      "metadata": {
        "id": "KDFM0M5dxeQp"
      },
      "execution_count": null,
      "outputs": []
    },
    {
      "cell_type": "markdown",
      "source": [
        "**Fit first model with 5 epochs**"
      ],
      "metadata": {
        "id": "1pa2k9EB7QGj"
      }
    },
    {
      "cell_type": "code",
      "source": [
        "epochs = 5\n",
        "ThisModel = model.fit(X_train,Y_train,epochs = epochs, batch_size=64,verbose = 1)"
      ],
      "metadata": {
        "colab": {
          "base_uri": "https://localhost:8080/"
        },
        "id": "UlhPOdj5dSpn",
        "outputId": "d2adaa1e-3e4b-4916-e3ce-2cb38f21fd07"
      },
      "execution_count": null,
      "outputs": [
        {
          "output_type": "stream",
          "name": "stdout",
          "text": [
            "Epoch 1/5\n",
            "907/907 [==============================] - 749s 825ms/step - loss: 1.4935 - accuracy: 0.5826\n",
            "Epoch 2/5\n",
            "907/907 [==============================] - 736s 812ms/step - loss: 0.3193 - accuracy: 0.9408\n",
            "Epoch 3/5\n",
            "907/907 [==============================] - 736s 812ms/step - loss: 0.2139 - accuracy: 0.9663\n",
            "Epoch 4/5\n",
            "907/907 [==============================] - 742s 818ms/step - loss: 0.1768 - accuracy: 0.9751\n",
            "Epoch 5/5\n",
            "907/907 [==============================] - 728s 803ms/step - loss: 0.1566 - accuracy: 0.9795\n"
          ]
        }
      ]
    },
    {
      "cell_type": "markdown",
      "source": [
        "**Fit second model with 5 epochs**"
      ],
      "metadata": {
        "id": "auIyPVuW7Wc_"
      }
    },
    {
      "cell_type": "code",
      "source": [
        "ThisModel_2 = model_2.fit(X_train, Y_train,epochs=5,batch_size=64,verbose=1)"
      ],
      "metadata": {
        "colab": {
          "base_uri": "https://localhost:8080/"
        },
        "id": "UCSRr-u3y6Qe",
        "outputId": "282098cf-e192-4074-c27f-1d13d7a2d189"
      },
      "execution_count": null,
      "outputs": [
        {
          "output_type": "stream",
          "name": "stdout",
          "text": [
            "Epoch 1/5\n",
            "907/907 [==============================] - 414s 455ms/step - loss: 1.0599 - accuracy: 0.6872\n",
            "Epoch 2/5\n",
            "907/907 [==============================] - 395s 436ms/step - loss: 0.1551 - accuracy: 0.9501\n",
            "Epoch 3/5\n",
            "907/907 [==============================] - 394s 435ms/step - loss: 0.0758 - accuracy: 0.9759\n",
            "Epoch 4/5\n",
            "907/907 [==============================] - 394s 435ms/step - loss: 0.0462 - accuracy: 0.9851\n",
            "Epoch 5/5\n",
            "907/907 [==============================] - 393s 433ms/step - loss: 0.0376 - accuracy: 0.9884\n"
          ]
        }
      ]
    },
    {
      "cell_type": "markdown",
      "source": [
        "**Report accuracy of model 1**"
      ],
      "metadata": {
        "id": "hGh6JzXx7a3Y"
      }
    },
    {
      "cell_type": "code",
      "source": [
        "modelLoss , modelAccuracy = model.evaluate(X_test,Y_test)\n",
        "print('Test Loss is %d'%modelLoss)\n",
        "print('Test Accuracy is %d'%modelAccuracy)"
      ],
      "metadata": {
        "colab": {
          "base_uri": "https://localhost:8080/"
        },
        "id": "5U_L8ATgeRd1",
        "outputId": "ac492cde-ed9a-4a6d-80da-214219d8d3c7"
      },
      "execution_count": null,
      "outputs": [
        {
          "output_type": "stream",
          "name": "stdout",
          "text": [
            "1/1 [==============================] - 0s 374ms/step - loss: 0.0912 - accuracy: 1.0000\n",
            "Test Loss is 0\n",
            "Test Accuracy is 1\n"
          ]
        }
      ]
    },
    {
      "cell_type": "markdown",
      "source": [
        "**Report accuracy of model 2**"
      ],
      "metadata": {
        "id": "qPZzEXnF7e_U"
      }
    },
    {
      "cell_type": "code",
      "source": [
        "modelLoss_2 , modelAccuracy_2 = model_2.evaluate(X_test,Y_test)\n",
        "print('Test Loss is %d'%modelLoss_2)\n",
        "print('Test Accuracy is %d'%modelAccuracy_2)"
      ],
      "metadata": {
        "colab": {
          "base_uri": "https://localhost:8080/"
        },
        "id": "Vu-bAri5AzMX",
        "outputId": "a031ef65-a542-485c-dd84-2dca509b7a40"
      },
      "execution_count": null,
      "outputs": [
        {
          "output_type": "stream",
          "name": "stdout",
          "text": [
            "1/1 [==============================] - 0s 216ms/step - loss: 0.0096 - accuracy: 1.0000\n",
            "Test Loss is 0\n",
            "Test Accuracy is 1\n"
          ]
        }
      ]
    },
    {
      "cell_type": "markdown",
      "source": [
        "**Predict using first model**"
      ],
      "metadata": {
        "id": "W-gOmcFK7rin"
      }
    },
    {
      "cell_type": "code",
      "source": [
        "Y_predict=model.predict(X_test) \n",
        "classes_y=np.argmax(Y_predict,axis=1)"
      ],
      "metadata": {
        "id": "1ZZx3jOtnf5u"
      },
      "execution_count": null,
      "outputs": []
    },
    {
      "cell_type": "markdown",
      "source": [
        "**Predict using second model**"
      ],
      "metadata": {
        "id": "Bjw1esPP7vzW"
      }
    },
    {
      "cell_type": "code",
      "source": [
        "Y_predict_2=model_2.predict(X_test) \n",
        "classes_y_2=np.argmax(Y_predict_2,axis=1)"
      ],
      "metadata": {
        "id": "1lAWa8bFA8GW"
      },
      "execution_count": null,
      "outputs": []
    },
    {
      "cell_type": "markdown",
      "source": [
        "**Report accuracy,recall and precission**"
      ],
      "metadata": {
        "id": "po2KLzVw7zoC"
      }
    },
    {
      "cell_type": "code",
      "source": [
        "# calculate accuracy\n",
        "accuracy = accuracy_score(Y_test, classes_y)\n",
        "print('Model accuracy is: ', accuracy)\n",
        "\n",
        "# Model Precision: what percentage of positive tuples are labeled as such?\n",
        "print(\"Precision:\", precision_score(Y_test, classes_y, average='micro'))\n",
        "\n",
        "# Model Recall: what percentage of positive tuples are labelled as such?\n",
        "print(\"Recall:\", recall_score(Y_test, classes_y, average='micro'))"
      ],
      "metadata": {
        "colab": {
          "base_uri": "https://localhost:8080/"
        },
        "id": "CeeLWLFPkHpn",
        "outputId": "70070a8d-cee7-44ac-bdf3-7d563fe0c012"
      },
      "execution_count": null,
      "outputs": [
        {
          "output_type": "stream",
          "name": "stdout",
          "text": [
            "Model accuracy is:  1.0\n",
            "Precision: 1.0\n",
            "Recall: 1.0\n"
          ]
        }
      ]
    },
    {
      "cell_type": "markdown",
      "source": [
        "**Report accuracy,recall and precission**"
      ],
      "metadata": {
        "id": "D1EOBDqL78gb"
      }
    },
    {
      "cell_type": "code",
      "source": [
        "# calculate accuracy\n",
        "accuracy_2 = accuracy_score(Y_test, classes_y_2)\n",
        "print('Model accuracy is: ', accuracy_2)\n",
        "\n",
        "# Model Precision: what percentage of positive tuples are labeled as such?\n",
        "print(\"Precision:\", precision_score(Y_test, classes_y_2, average='micro'))\n",
        "\n",
        "# Model Recall: what percentage of positive tuples are labelled as such?\n",
        "print(\"Recall:\", recall_score(Y_test, classes_y_2, average='micro'))"
      ],
      "metadata": {
        "colab": {
          "base_uri": "https://localhost:8080/"
        },
        "id": "hTM2CkAaBBNV",
        "outputId": "34a88fe7-360b-4346-d240-f5a050f7a0c0"
      },
      "execution_count": null,
      "outputs": [
        {
          "output_type": "stream",
          "name": "stdout",
          "text": [
            "Model accuracy is:  1.0\n",
            "Precision: 1.0\n",
            "Recall: 1.0\n"
          ]
        }
      ]
    }
  ]
}